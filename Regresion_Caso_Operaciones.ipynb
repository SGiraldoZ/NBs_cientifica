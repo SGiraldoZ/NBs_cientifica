{
 "cells": [
  {
   "cell_type": "markdown",
   "metadata": {},
   "source": [
    "# Regresión\n",
    "\n",
    "Es regresión porque la variable de salida (productividad esperada) es numérica y continua\n",
    "\n"
   ]
  },
  {
   "cell_type": "markdown",
   "metadata": {},
   "source": [
    "## Métricas de Regresión\n",
    "\n",
    "> Las mejores son MAPE y MSE"
   ]
  },
  {
   "cell_type": "markdown",
   "metadata": {},
   "source": [
    "\n",
    "### Coeficiente de Determinación\n",
    "\n",
    "> $$ R^{2} \\rightarrow 1 $$\n",
    "\n",
    "$$ R^{2} = 1 - \\frac{\\sum{(y_i - \\hat{y})^2}}{\\sum{(y_i - \\bar{y})^2}} $$ \n",
    "\n",
    "\n",
    "### Error Cuadrático Medio:\n",
    "\n",
    "> $$ MSE \\rightarrow 0 $$\n",
    "\n",
    "$$ \\text{MSE} = \\frac{1}{n} \\sum_{i=1}^n (y_i - \\hat{y}_i)^2 $$\n",
    "\n",
    "### Error Medio Absoluto\n",
    "\n",
    "> $$ MAE \\rightarrow 0 $$\n",
    "\n",
    "$$ \\text{MAE} = \\frac{1}{n} \\sum_{i=1}^n |y_i - \\hat{y}_i| $$\n",
    "\n",
    "### Porcentaje Del Error Medio Absoluto\n",
    "\n",
    "> $$ MAPE \\rightarrow 0\\% $$\n",
    "\n",
    "$$ \\text{MAPE} = \\frac{1}{n} \\sum_{i=1}^n \\left| \\frac{y_i - \\hat{y}_i}{y_i} \\right| \\times 100\\% \n",
    "\n",
    "\n",
    "\n"
   ]
  },
  {
   "cell_type": "markdown",
   "metadata": {},
   "source": [
    "## Modelos para Regresión"
   ]
  },
  {
   "cell_type": "markdown",
   "metadata": {},
   "source": [
    "### Regresión Lineal\n",
    "\n",
    "No hay clasificador duro con función sigmoidea"
   ]
  },
  {
   "cell_type": "markdown",
   "metadata": {},
   "source": [
    "### Máquinas de Soporte Vectorial"
   ]
  },
  {
   "cell_type": "markdown",
   "metadata": {},
   "source": [
    "### K Vecinos Más Cercanos\n",
    "\n",
    "Busca minimizar la diferencia entre los individuos más cercanos. \n",
    "\n",
    "El valor predicho es el promedio de los valores de los vecinos.\n",
    "\n",
    "> K puede ser par"
   ]
  },
  {
   "cell_type": "markdown",
   "metadata": {},
   "source": [
    "### Árboles de Decisión\n",
    "\n",
    "Cada hoja llega a ser una región. El árbol ubica un nuevo individuo en una de las regiones que tiene y retorna el promedio de los individuos en esa región"
   ]
  },
  {
   "cell_type": "markdown",
   "metadata": {},
   "source": [
    "### Modelos De Ensamble\n",
    "\n",
    "Son las mismas opciones de clasificación. Internamente construídos por árboles (Pero árboles de regresión)"
   ]
  }
 ],
 "metadata": {
  "language_info": {
   "name": "python"
  },
  "orig_nbformat": 4
 },
 "nbformat": 4,
 "nbformat_minor": 2
}
